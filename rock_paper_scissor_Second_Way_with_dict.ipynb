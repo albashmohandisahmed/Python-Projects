{
 "cells": [
  {
   "cell_type": "markdown",
   "id": "8c0da183",
   "metadata": {},
   "source": [
    "## rock_paper_scissor problem :( with solution :)"
   ]
  },
  {
   "cell_type": "code",
   "execution_count": 16,
   "id": "e10cd558",
   "metadata": {},
   "outputs": [
    {
     "name": "stdout",
     "output_type": "stream",
     "text": [
      "Enter your choice Rock (1), Paper (2) or Scissor (3) or Q to quit: 1\n",
      "Computer choice paper.\n",
      "You Lost!\n",
      "Enter your choice Rock (1), Paper (2) or Scissor (3) or Q to quit: 2\n",
      "Computer choice rock.\n",
      "You Win!\n",
      "Enter your choice Rock (1), Paper (2) or Scissor (3) or Q to quit: 3\n",
      "Computer choice rock.\n",
      "You Lost!\n",
      "Enter your choice Rock (1), Paper (2) or Scissor (3) or Q to quit: 2\n",
      "Computer choice paper.\n",
      "Both sides are equal :) = (:\n",
      "Enter your choice Rock (1), Paper (2) or Scissor (3) or Q to quit: ض\n",
      "Please enter numbers only or Q for Quit\n",
      "Enter your choice Rock (1), Paper (2) or Scissor (3) or Q to quit: q\n",
      "You won 1 times.\n",
      "The computer won 2 times.\n",
      "Goodby :)\n"
     ]
    }
   ],
   "source": [
    "import random\n",
    "\n",
    "user_wins = 0\n",
    "computer_wins = 0\n",
    "\n",
    "options = {\n",
    "    1:'rock',\n",
    "    2:'paper',\n",
    "    3:'scissor'\n",
    "}\n",
    "options.keys()\n",
    "while True:\n",
    "    user_input = input(\"Enter your choice Rock (1), Paper (2) or Scissor (3) or Q to quit: \").lower()\n",
    "\n",
    "    if user_input == \"q\":\n",
    "        break\n",
    "    if user_input.isdigit():\n",
    "        user_input = int(user_input)\n",
    "        if user_input not in list(options.keys()):\n",
    "            print('Your number must be from 1 to 3')            \n",
    "            continue\n",
    "    else:\n",
    "        print('Please enter numbers only or Q for Quit')\n",
    "        continue\n",
    "\n",
    "    random_number = random.randint(0, 2)\n",
    "    # rock: 0, paper: 1, scissors: 2\n",
    "    computer_choice = list(options.keys())[random_number]\n",
    "    computer_choice = options[computer_choice]\n",
    "\n",
    "    print(f\"Computer choice {computer_choice}.\")\n",
    "\n",
    "    if options[user_input] == \"rock\" and computer_choice == \"scissor\":\n",
    "        print(\"You Win!\")\n",
    "        user_wins += 1\n",
    "\n",
    "    elif options[user_input] == \"scissor\" and computer_choice == \"paper\":\n",
    "        print(\"You Win!\")\n",
    "        user_wins += 1\n",
    "\n",
    "    elif options[user_input] == \"paper\" and computer_choice == \"rock\":\n",
    "        print(\"You Win!\")\n",
    "        user_wins += 1\n",
    "    elif options[user_input] == \"paper\" and computer_choice == \"paper\" or options[user_input] == \"scissor\" and computer_choice == \"scissor\" or options[user_input] == \"rock\" and computer_choice == \"rock\":\n",
    "        print(\"Both sides are equal :) = (:\")\n",
    "\n",
    "    else:\n",
    "        print(\"You Lost!\")\n",
    "        computer_wins += 1\n",
    "\n",
    "\n",
    "print(f\"You won {user_wins} times.\")\n",
    "print(f\"The computer won {computer_wins} times.\")\n",
    "print(\"Goodby :)\")\n"
   ]
  },
  {
   "cell_type": "code",
   "execution_count": null,
   "id": "52b20b06",
   "metadata": {},
   "outputs": [],
   "source": []
  }
 ],
 "metadata": {
  "kernelspec": {
   "display_name": "Python 3 (ipykernel)",
   "language": "python",
   "name": "python3"
  },
  "language_info": {
   "codemirror_mode": {
    "name": "ipython",
    "version": 3
   },
   "file_extension": ".py",
   "mimetype": "text/x-python",
   "name": "python",
   "nbconvert_exporter": "python",
   "pygments_lexer": "ipython3",
   "version": "3.9.13"
  }
 },
 "nbformat": 4,
 "nbformat_minor": 5
}
