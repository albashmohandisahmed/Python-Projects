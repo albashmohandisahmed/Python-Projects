{
 "cells": [
  {
   "cell_type": "markdown",
   "id": "511cd339",
   "metadata": {},
   "source": [
    "## rock_paper_scissor problem :( with solution :)"
   ]
  },
  {
   "cell_type": "code",
   "execution_count": 19,
   "id": "6ff6e9f0",
   "metadata": {},
   "outputs": [],
   "source": [
    "import random"
   ]
  },
  {
   "cell_type": "code",
   "execution_count": 24,
   "id": "b99aa5eb",
   "metadata": {},
   "outputs": [
    {
     "name": "stdout",
     "output_type": "stream",
     "text": [
      "Enter your choice Rock (1), Paper (2) or Scissor (3)\n",
      "Your Turn: 1\n",
      "User have chosen rock\n",
      "Computer have chosen paper\n",
      "Paper wins :\n",
      "Computer wins, try again ):\n",
      "Do you want to play again?! (n) : \n",
      "Enter your choice Rock (1), Paper (2) or Scissor (3)\n",
      "Your Turn: 3\n",
      "User have chosen scissor\n",
      "Computer have chosen paper\n",
      "Scissor wins :\n",
      "Great, you win (:\n",
      "Do you want to play again?! (n) : \n",
      "Enter your choice Rock (1), Paper (2) or Scissor (3)\n",
      "Your Turn: 1\n",
      "User have chosen rock\n",
      "Computer have chosen paper\n",
      "Paper wins :\n",
      "Computer wins, try again ):\n",
      "Do you want to play again?! (n) : 2\n",
      "Enter your choice Rock (1), Paper (2) or Scissor (3)\n",
      "Your Turn: 2\n",
      "User have chosen paper\n",
      "Computer have chosen rock\n",
      "Paper wins :\n",
      "Great, you win (:\n",
      "Do you want to play again?! (n) : \n",
      "Enter your choice Rock (1), Paper (2) or Scissor (3)\n",
      "Your Turn: 1\n",
      "User have chosen rock\n",
      "Computer have chosen paper\n",
      "Paper wins :\n",
      "Computer wins, try again ):\n",
      "Do you want to play again?! (n) : 2\n",
      "Enter your choice Rock (1), Paper (2) or Scissor (3)\n",
      "Your Turn: 2\n",
      "User have chosen paper\n",
      "Computer have chosen rock\n",
      "Paper wins :\n",
      "Great, you win (:\n",
      "Do you want to play again?! (n) : \n",
      "Enter your choice Rock (1), Paper (2) or Scissor (3)\n",
      "Your Turn: 1\n",
      "User have chosen rock\n",
      "Computer have chosen scissor\n",
      "Rock wins :\n",
      "Great, you win (:\n",
      "Do you want to play again?! (n) : n\n",
      "You won 4 times.\n",
      "The computer won 3 times.\n",
      "Goodby :)\n"
     ]
    }
   ],
   "source": [
    "choices = {\n",
    "    1:'rock',\n",
    "    2:'paper',\n",
    "    3:'scissor'\n",
    "}\n",
    "user_wins = 0\n",
    "computer_wins = 0\n",
    "while True:\n",
    "    computer_choices = [1, 2, 3]\n",
    "    # while loop \n",
    "    invalid_input = True\n",
    "    while invalid_input:\n",
    "        print(\"Enter your choice Rock (1), Paper (2) or Scissor (3)\")\n",
    "        choice = input(\"Your Turn: \")\n",
    "        if choice.isdigit(): \n",
    "            choice = int(choice)\n",
    "            if choice in computer_choices:\n",
    "                invalid_input = False\n",
    "            else:\n",
    "                print('Your number must be from 1 to 3')\n",
    "        else:\n",
    "            print('Please enter numbers only')\n",
    "\n",
    "\n",
    "\n",
    "    # choice is valid input\n",
    "    choice_name = choices[choice]\n",
    "    print(f\"User have chosen {choice_name}\")\n",
    "    computer_choices.remove(choice)\n",
    "    comp_choice = random.choice(computer_choices)\n",
    "    comp_name = choices[comp_choice]\n",
    "    print(f\"Computer have chosen {comp_name}\")\n",
    "\n",
    "    #1 => rock\n",
    "    #2 => paper\n",
    "    #3 => scissor\n",
    "\n",
    "    if (choice == 1 and comp_choice==2) or (choice == 2 and comp_choice==1):\n",
    "        print('Paper wins :')\n",
    "        win_result = 'paper'\n",
    "    elif (choice == 1 and comp_choice==3) or (choice == 3 and comp_choice==1):\n",
    "        print('Rock wins :')\n",
    "        win_result = 'rock'\n",
    "    else:\n",
    "        print('Scissor wins :')\n",
    "        win_result = 'scissor'\n",
    "\n",
    "    if win_result == choice_name:\n",
    "        print('Great, you win (:')\n",
    "        user_wins += 1\n",
    "    else:\n",
    "        print('Computer wins, try again ):')\n",
    "        computer_wins += 1\n",
    "\n",
    "    ans = input(\"Do you want to play again?! (n) : \")\n",
    "    if ans.lower() == 'n':\n",
    "        break\n",
    "\n",
    "print(f\"You won {user_wins} times.\")\n",
    "print(f\"The computer won {computer_wins} times.\")\n",
    "print(\"Goodby :)\")"
   ]
  },
  {
   "cell_type": "code",
   "execution_count": 15,
   "id": "9aa19ac8",
   "metadata": {},
   "outputs": [
    {
     "name": "stdout",
     "output_type": "stream",
     "text": [
      "Enter your choice Rock (1), Paper (2) or Scissor (3)\n",
      "Your Turn: 0\n",
      "Enter Number greater than 0 \n"
     ]
    }
   ],
   "source": [
    "choices = {\n",
    "    1:'rock',\n",
    "    2:'paper',\n",
    "    3:'scissor'\n",
    "}\n",
    "print(\"Enter your choice Rock (1), Paper (2) or Scissor (3)\")\n",
    "choice = input(\"Your Turn: \")\n",
    "\n",
    "computer_choices = [1, 2, 3]\n",
    "\n",
    "while True:\n",
    "    if choice.isdigit():\n",
    "        choice = int(choice)\n",
    "        if choice > 0:\n",
    "            if choice > 3:\n",
    "                print(\"Enter Number range 1 to 3\") \n",
    "                break\n",
    "            else:\n",
    "                print(choices[choice])\n",
    "                break\n",
    "        else:\n",
    "            print(\"Enter Number greater than 0 \")\n",
    "            break\n",
    "    else:\n",
    "        print(\"Enter Number only\") \n",
    "        break"
   ]
  },
  {
   "cell_type": "code",
   "execution_count": 17,
   "id": "62651495",
   "metadata": {},
   "outputs": [
    {
     "name": "stdout",
     "output_type": "stream",
     "text": [
      "Enter your choice Rock (1), Paper (2) or Scissor (3)\n",
      "Your Turn: 7\n",
      "Your number must be from 1 to 3\n",
      "Enter your choice Rock (1), Paper (2) or Scissor (3)\n",
      "Your Turn: 6\n",
      "Your number must be from 1 to 3\n",
      "Enter your choice Rock (1), Paper (2) or Scissor (3)\n",
      "Your Turn: 2\n",
      "paper\n"
     ]
    }
   ],
   "source": [
    "choices = {\n",
    "    1:'rock',\n",
    "    2:'paper',\n",
    "    3:'scissor'\n",
    "}\n",
    "computer_choices = [1, 2, 3]\n",
    "while True:\n",
    "    print(\"Enter your choice Rock (1), Paper (2) or Scissor (3)\")\n",
    "    choice = input(\"Your Turn: \")\n",
    "    if choice.isdigit():\n",
    "        choice = int(choice)\n",
    "        if choice in computer_choices:\n",
    "            print(choices[choice])\n",
    "            break\n",
    "        else:\n",
    "            print('Your number must be from 1 to 3')\n",
    "    else:\n",
    "        print('Please enter numbers only')"
   ]
  },
  {
   "cell_type": "code",
   "execution_count": null,
   "id": "99044c0a",
   "metadata": {},
   "outputs": [],
   "source": []
  }
 ],
 "metadata": {
  "kernelspec": {
   "display_name": "Python 3 (ipykernel)",
   "language": "python",
   "name": "python3"
  },
  "language_info": {
   "codemirror_mode": {
    "name": "ipython",
    "version": 3
   },
   "file_extension": ".py",
   "mimetype": "text/x-python",
   "name": "python",
   "nbconvert_exporter": "python",
   "pygments_lexer": "ipython3",
   "version": "3.9.13"
  }
 },
 "nbformat": 4,
 "nbformat_minor": 5
}
