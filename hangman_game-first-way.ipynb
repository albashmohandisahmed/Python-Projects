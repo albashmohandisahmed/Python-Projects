{
 "cells": [
  {
   "cell_type": "markdown",
   "id": "0400857d",
   "metadata": {},
   "source": [
    "# simple problem \"Guess the word\""
   ]
  },
  {
   "cell_type": "code",
   "execution_count": 1,
   "id": "3c3b912d",
   "metadata": {},
   "outputs": [],
   "source": [
    "import random"
   ]
  },
  {
   "cell_type": "code",
   "execution_count": 2,
   "id": "71669d7b",
   "metadata": {},
   "outputs": [],
   "source": [
    "somewords = [\n",
    "    'apple', 'bannana', 'mango',\n",
    "    'strawbwerry', 'orange',\n",
    "    'grape', 'lemon', 'watermelon',\n",
    "    'cherry', 'coconut', 'peach', 'figs', \n",
    "    'kiwi', 'pineapple'\n",
    "]"
   ]
  },
  {
   "cell_type": "code",
   "execution_count": 3,
   "id": "719f495e",
   "metadata": {},
   "outputs": [],
   "source": [
    "word = random.choice(somewords)"
   ]
  },
  {
   "cell_type": "code",
   "execution_count": 4,
   "id": "64c5c410",
   "metadata": {},
   "outputs": [
    {
     "data": {
      "text/plain": [
       "'orange'"
      ]
     },
     "execution_count": 4,
     "metadata": {},
     "output_type": "execute_result"
    }
   ],
   "source": [
    "word"
   ]
  },
  {
   "cell_type": "markdown",
   "id": "7fad75c7",
   "metadata": {},
   "source": [
    "## project implementation"
   ]
  },
  {
   "cell_type": "code",
   "execution_count": 5,
   "id": "16635819",
   "metadata": {},
   "outputs": [
    {
     "name": "stdout",
     "output_type": "stream",
     "text": [
      "Guess the word! Hint: word is a name of a fruit\n",
      "_ _ _ _ _\n",
      "Enter a letter to guess: o\n",
      "_ _ _ o _\n",
      "Enter a letter to guess: l\n",
      "l _ _ o _\n",
      "Enter a letter to guess: e\n",
      "l e _ o _\n",
      "Enter a letter to guess: m\n",
      "l e m o _\n",
      "Enter a letter to guess: n\n",
      "l e m o n\n",
      "Congrats! you have guessed the word correctly\n",
      "Do you want to play again? (y, n)y\n",
      "Guess the word! Hint: word is a name of a fruit\n",
      "_ _ _ _ _ _ _\n",
      "Enter a letter to guess: n\n",
      "_ _ _ _ n _ _\n",
      "Enter a letter to guess: u\n",
      "_ _ _ _ n u _\n",
      "Enter a letter to guess: t\n",
      "_ _ _ _ n u t\n",
      "Enter a letter to guess: c\n",
      "c _ c _ n u t\n",
      "Enter a letter to guess: o\n",
      "c o c o n u t\n",
      "Congrats! you have guessed the word correctly\n",
      "Do you want to play again? (y, n)n\n"
     ]
    }
   ],
   "source": [
    "while True:\n",
    "    print('Guess the word! Hint: word is a name of a fruit')\n",
    "    word = random.choice(somewords)\n",
    "    #print(word)\n",
    "    letterGuessed = list('_' * len(word))\n",
    "    print(' '.join(letterGuessed))\n",
    "    chances = len(word) + 2\n",
    "    wrong_guesses = []\n",
    "    while chances > 0:\n",
    "        guess = input('Enter a letter to guess: ')\n",
    "        # validation on input \n",
    "        if not(guess.isalpha()):\n",
    "            print(\"Enter only letter\")  \n",
    "        elif len(guess) > 1:\n",
    "            print('Enter only a single character')\n",
    "        elif guess in letterGuessed:\n",
    "            print('You have already guessed that letter')\n",
    "        elif guess in word:\n",
    "            for i, char in enumerate(word):\n",
    "                if guess == char:\n",
    "                    letterGuessed[i] = char\n",
    "            print(\" \".join(letterGuessed))\n",
    "\n",
    "        elif not(guess in wrong_guesses):\n",
    "            chances = chances - 1\n",
    "            wrong_guesses.append(guess)\n",
    "            print(f\"Wrong guessing, you have left with {chances} chances\")\n",
    "        else:\n",
    "            print('You have already guessed that wrong letter')\n",
    "\n",
    "\n",
    "        if \"\".join(letterGuessed) == word:\n",
    "            print('Congrats! you have guessed the word correctly')\n",
    "            break\n",
    "\n",
    "        if chances <= 0:\n",
    "            print('You lost! Please try again...')\n",
    "            print(f\"The word was {word}\")\n",
    "\n",
    "\n",
    "    is_play = input('Do you want to play again? (y, n)')\n",
    "    if is_play.lower() == 'n':\n",
    "        break\n",
    "    \n",
    "    "
   ]
  },
  {
   "cell_type": "code",
   "execution_count": null,
   "id": "1ea9b884",
   "metadata": {},
   "outputs": [],
   "source": []
  }
 ],
 "metadata": {
  "kernelspec": {
   "display_name": "Python 3 (ipykernel)",
   "language": "python",
   "name": "python3"
  },
  "language_info": {
   "codemirror_mode": {
    "name": "ipython",
    "version": 3
   },
   "file_extension": ".py",
   "mimetype": "text/x-python",
   "name": "python",
   "nbconvert_exporter": "python",
   "pygments_lexer": "ipython3",
   "version": "3.9.13"
  }
 },
 "nbformat": 4,
 "nbformat_minor": 5
}
