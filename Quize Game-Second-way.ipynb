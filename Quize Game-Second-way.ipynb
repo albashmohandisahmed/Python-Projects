{
 "cells": [
  {
   "cell_type": "markdown",
   "id": "86f9fb7b",
   "metadata": {},
   "source": [
    "# simple problem with if statement python"
   ]
  },
  {
   "cell_type": "code",
   "execution_count": 4,
   "id": "9c2aea1c",
   "metadata": {},
   "outputs": [
    {
     "name": "stdout",
     "output_type": "stream",
     "text": [
      "Welcome to my Game!\n",
      "IF you want to play press (Y)? y\n",
      "Ok, Let's play :> \n"
     ]
    }
   ],
   "source": [
    "print(\"Welcome to my Game!\")\n",
    "\n",
    "playing = input(\"IF you want to play press (Y)? \")\n",
    "\n",
    "if playing.lower() != 'y':\n",
    "    quit()\n",
    "\n",
    "print(\"Ok, Let's play :> \")\n",
    "score = 0\n",
    "questions = 0"
   ]
  },
  {
   "cell_type": "code",
   "execution_count": 5,
   "id": "41cf83ca",
   "metadata": {},
   "outputs": [
    {
     "name": "stdout",
     "output_type": "stream",
     "text": [
      "What is the abbreviation 'central processing unit' ? cpu\n",
      "Correct!\n",
      "What is the abbreviation 'graphics processing unit' ? gpu\n",
      "Correct!\n",
      "What is the abbreviation 'random access memory' ?ram\n",
      "Correct!\n",
      "What is the abbreviation 'power supply' ? psu\n",
      "Correct!\n",
      "You got 4 answers correct!\n",
      "You got 100.0 %\n"
     ]
    }
   ],
   "source": [
    "questions += 1\n",
    "answer = input(\"What is the abbreviation 'central processing unit' ? \")\n",
    "if answer.lower() == \"cpu\":\n",
    "    score += 1\n",
    "    print(\"Correct!\")\n",
    "else:\n",
    "    print(\"incorrect!\")\n",
    "\n",
    "questions += 1\n",
    "answer = input(\"What is the abbreviation 'graphics processing unit' ? \")\n",
    "if answer.lower() == \"gpu\":\n",
    "    score += 1\n",
    "    print(\"Correct!\")\n",
    "else:\n",
    "    print(\"incorrect!\")\n",
    "\n",
    "questions += 1\n",
    "answer = input(\"What is the abbreviation 'random access memory' ?\")\n",
    "if answer.lower() == \"ram\":\n",
    "    score += 1\n",
    "    print(\"Correct!\")\n",
    "else:\n",
    "    print(\"incorrect!\")\n",
    "\n",
    "questions += 1\n",
    "answer = input(\"What is the abbreviation 'power supply' ? \")\n",
    "if answer.lower() == \"psu\":\n",
    "    score += 1\n",
    "    print(\"Correct!\")\n",
    "else:\n",
    "    print(\"incorrect!\")\n",
    "\n",
    "\n",
    "print(f\"You got {score} answers correct!\")\n",
    "print(f\"You got {(score/questions) * 100} %\")\n"
   ]
  },
  {
   "cell_type": "code",
   "execution_count": null,
   "id": "dba610f0",
   "metadata": {},
   "outputs": [],
   "source": []
  }
 ],
 "metadata": {
  "kernelspec": {
   "display_name": "Python 3 (ipykernel)",
   "language": "python",
   "name": "python3"
  },
  "language_info": {
   "codemirror_mode": {
    "name": "ipython",
    "version": 3
   },
   "file_extension": ".py",
   "mimetype": "text/x-python",
   "name": "python",
   "nbconvert_exporter": "python",
   "pygments_lexer": "ipython3",
   "version": "3.9.13"
  }
 },
 "nbformat": 4,
 "nbformat_minor": 5
}
